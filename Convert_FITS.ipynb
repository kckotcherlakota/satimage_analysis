{
 "cells": [
  {
   "cell_type": "code",
   "execution_count": 59,
   "metadata": {},
   "outputs": [
    {
     "name": "stdout",
     "output_type": "stream",
     "text": [
      "SIMPLE  =                    T / file does conform to FITS standard             \n",
      "BITPIX  =                  -64 / number of bits per data pixel                  \n",
      "NAXIS   =                    3 / number of data axes                            \n",
      "NAXIS1  =                  256 / length of data axis 1                          \n",
      "NAXIS2  =                  256 / length of data axis 2                          \n",
      "NAXIS3  =                   11 / length of data axis 3                          \n",
      "EXTEND  =                    T / FITS dataset may contain extensions            \n",
      "COMMENT   FITS (Flexible Image Transport System) format is defined in 'Astronomy\n",
      "COMMENT   and Astrophysics', volume 376, page 359; bibcode: 2001A&A...376..359H \n"
     ]
    }
   ],
   "source": [
    "from astropy.utils.data import get_pkg_data_filename\n",
    "from astropy.io import fits\n",
    "import matplotlib.pyplot as plt\n",
    "import numpy as np\n",
    "from PIL import Image\n",
    "\n",
    "fileName = 'MGS_moi_Dr0_30_dsf4'\n",
    "\n",
    "ACRIMSAT = fits.open('/Users/TianchangLi/Research/Satellite/objects_training/%s.fits'%fileName)\n",
    "hdr = ACRIMSAT[0].header    ## The extra information from .fits file\n",
    "print(repr(hdr))\n",
    "data = ACRIMSAT[0].data     ## The image matrix we are going to feed to models, consist of 11 layers(positions)\n",
    "\n",
    "\n",
    "## Alternative way to get image data\n",
    "\n",
    "# ACRIMSAT = get_pkg_data_filename('/Users/TianchangLi/Research/Satellite/objects_training/ACRIMSAT_05_Dr0_30_dsf4.fits')\n",
    "# data = fits.getdata(ACRIMSAT,ext = 0)\n",
    "# list(ACRIMSAT[0].header.keys())\n",
    "# fits.info(ACRIMSAT)"
   ]
  },
  {
   "cell_type": "code",
   "execution_count": 21,
   "metadata": {},
   "outputs": [
    {
     "name": "stdout",
     "output_type": "stream",
     "text": [
      ">f8\n",
      "(11, 256, 256)\n"
     ]
    }
   ],
   "source": [
    "# data = data.astype('float64')\n",
    "print(data.dtype)\n",
    "print(data.shape)"
   ]
  },
  {
   "cell_type": "code",
   "execution_count": 60,
   "metadata": {},
   "outputs": [
    {
     "data": {
      "text/plain": [
       "<matplotlib.image.AxesImage at 0x1190b2b70>"
      ]
     },
     "execution_count": 60,
     "metadata": {},
     "output_type": "execute_result"
    },
    {
     "data": {
      "image/png": "[encoded data removed]",
      "text/plain": [
       "<Figure size 432x288 with 1 Axes>"
      ]
     },
     "metadata": {
      "needs_background": "light"
     },
     "output_type": "display_data"
    }
   ],
   "source": [
    "# Visualize each layer in gray scale\n",
    "twod = data[10,:,:]\n",
    "new_image_min = 0.\n",
    "new_image_max = np.max(twod)\n",
    "plt.figure()\n",
    "plt.imshow(twod, vmin = new_image_min, vmax = new_image_max, cmap='gray')"
   ]
  },
  {
   "cell_type": "code",
   "execution_count": 61,
   "metadata": {},
   "outputs": [
    {
     "name": "stdout",
     "output_type": "stream",
     "text": [
      "(256, 256)\n",
      "(256, 256)\n",
      "(256, 256)\n",
      "(256, 256)\n",
      "(256, 256)\n",
      "(256, 256)\n",
      "(256, 256)\n",
      "(256, 256)\n",
      "(256, 256)\n",
      "(256, 256)\n",
      "(256, 256)\n",
      "(256, 256)\n",
      "(256, 256)\n",
      "(256, 256)\n",
      "(256, 256)\n",
      "(256, 256)\n",
      "(256, 256)\n",
      "(256, 256)\n",
      "(256, 256)\n",
      "(256, 256)\n",
      "(256, 256)\n",
      "(256, 256)\n"
     ]
    }
   ],
   "source": [
    "## Attempt to conver to tiff and then gif\n",
    "from PIL import Image\n",
    "\n",
    "for i in range(len(data)):\n",
    "    img = Image.fromarray(data[i,:,:])\n",
    "    print(img.size)\n",
    "    # img = img.thumbnail((28,28))\n",
    "    img.save('%s*%s.tiff'%(fileName, i))\n",
    "    image = Image.open('%s*%s.tiff'%(fileName, i))\n",
    "    print(image.size)\n",
    "    new_image = image.resize((64, 64))\n",
    "    new_image.save('%s*%s.gif'%(fileName, i))\n",
    "    \n",
    "ACRIMSAT.close()"
   ]
  },
  {
   "cell_type": "code",
   "execution_count": null,
   "metadata": {},
   "outputs": [],
   "source": []
  }
 ],
 "metadata": {
  "kernelspec": {
   "display_name": "Python 3",
   "language": "python",
   "name": "python3"
  },
  "language_info": {
   "codemirror_mode": {
    "name": "ipython",
    "version": 3
   },
   "file_extension": ".py",
   "mimetype": "text/x-python",
   "name": "python",
   "nbconvert_exporter": "python",
   "pygments_lexer": "ipython3",
   "version": "3.7.3"
  }
 },
 "nbformat": 4,
 "nbformat_minor": 4
}
